{
 "cells": [
  {
   "cell_type": "code",
   "execution_count": 1,
   "id": "52641338",
   "metadata": {},
   "outputs": [],
   "source": [
    "import wrangle\n",
    "\n",
    "import pandas as pd\n",
    "pd.options.display.max_rows = 100\n",
    "\n",
    "import matplotlib.pyplot as plt\n",
    "import seaborn as sns"
   ]
  },
  {
   "cell_type": "markdown",
   "id": "80b5cb49",
   "metadata": {},
   "source": [
    ">## Acquiring data through wrangle.py\n"
   ]
  },
  {
   "cell_type": "code",
   "execution_count": 2,
   "id": "6244a504",
   "metadata": {},
   "outputs": [],
   "source": [
    "df=wrangle.get_zillow_data()"
   ]
  },
  {
   "cell_type": "markdown",
   "id": "b3310e6c",
   "metadata": {},
   "source": [
    ">## Defining the dataset"
   ]
  },
  {
   "cell_type": "code",
   "execution_count": 3,
   "id": "0baae537",
   "metadata": {},
   "outputs": [
    {
     "name": "stdout",
     "output_type": "stream",
     "text": [
      "---Shape: (52319, 68)\n",
      "\n",
      "---Info\n",
      "<class 'pandas.core.frame.DataFrame'>\n",
      "RangeIndex: 52319 entries, 0 to 52318\n",
      "Data columns (total 68 columns):\n",
      " #   Column                        Non-Null Count  Dtype  \n",
      "---  ------                        --------------  -----  \n",
      " 0   id                            52319 non-null  int64  \n",
      " 1   parcelid                      52319 non-null  int64  \n",
      " 2   airconditioningtypeid         13615 non-null  float64\n",
      " 3   architecturalstyletypeid      70 non-null     float64\n",
      " 4   basementsqft                  47 non-null     float64\n",
      " 5   bathroomcnt                   52319 non-null  float64\n",
      " 6   bedroomcnt                    52319 non-null  float64\n",
      " 7   buildingclasstypeid           0 non-null      float64\n",
      " 8   buildingqualitytypeid         33654 non-null  float64\n",
      " 9   calculatedbathnbr             52184 non-null  float64\n",
      " 10  decktypeid                    389 non-null    float64\n",
      " 11  finishedfloor1squarefeet      4371 non-null   float64\n",
      " 12  calculatedfinishedsquarefeet  52238 non-null  float64\n",
      " 13  finishedsquarefeet12          52073 non-null  float64\n",
      " 14  finishedsquarefeet13          0 non-null      float64\n",
      " 15  finishedsquarefeet15          0 non-null      float64\n",
      " 16  finishedsquarefeet50          4371 non-null   float64\n",
      " 17  finishedsquarefeet6           165 non-null    float64\n",
      " 18  fips                          52319 non-null  float64\n",
      " 19  fireplacecnt                  7233 non-null   float64\n",
      " 20  fullbathcnt                   52184 non-null  float64\n",
      " 21  garagecarcnt                  17984 non-null  float64\n",
      " 22  garagetotalsqft               17984 non-null  float64\n",
      " 23  hashottuborspa                1514 non-null   float64\n",
      " 24  heatingorsystemtypeid         33849 non-null  float64\n",
      " 25  latitude                      52319 non-null  float64\n",
      " 26  longitude                     52319 non-null  float64\n",
      " 27  lotsizesquarefeet             51953 non-null  float64\n",
      " 28  poolcnt                       11077 non-null  float64\n",
      " 29  poolsizesum                   865 non-null    float64\n",
      " 30  pooltypeid10                  443 non-null    float64\n",
      " 31  pooltypeid2                   1071 non-null   float64\n",
      " 32  pooltypeid7                   9990 non-null   float64\n",
      " 33  propertycountylandusecode     52319 non-null  object \n",
      " 34  propertylandusetypeid         52319 non-null  float64\n",
      " 35  propertyzoningdesc            33761 non-null  object \n",
      " 36  rawcensustractandblock        52319 non-null  float64\n",
      " 37  regionidcity                  51283 non-null  float64\n",
      " 38  regionidcounty                52319 non-null  float64\n",
      " 39  regionidneighborhood          18981 non-null  float64\n",
      " 40  regionidzip                   52293 non-null  float64\n",
      " 41  roomcnt                       52319 non-null  float64\n",
      " 42  storytypeid                   47 non-null     float64\n",
      " 43  threequarterbathnbr           6717 non-null   float64\n",
      " 44  typeconstructiontypeid        76 non-null     float64\n",
      " 45  unitcnt                       33761 non-null  float64\n",
      " 46  yardbuildingsqft17            1935 non-null   float64\n",
      " 47  yardbuildingsqft26            63 non-null     float64\n",
      " 48  yearbuilt                     52205 non-null  float64\n",
      " 49  numberofstories               14532 non-null  float64\n",
      " 50  fireplaceflag                 81 non-null     float64\n",
      " 51  structuretaxvaluedollarcnt    52237 non-null  float64\n",
      " 52  taxvaluedollarcnt             52318 non-null  float64\n",
      " 53  assessmentyear                52319 non-null  float64\n",
      " 54  landtaxvaluedollarcnt         52318 non-null  float64\n",
      " 55  taxamount                     52315 non-null  float64\n",
      " 56  taxdelinquencyflag            2068 non-null   object \n",
      " 57  taxdelinquencyyear            2068 non-null   float64\n",
      " 58  censustractandblock           52198 non-null  float64\n",
      " 59  logerror                      52319 non-null  float64\n",
      " 60  transactiondate               52319 non-null  object \n",
      " 61  airconditioningdesc           13615 non-null  object \n",
      " 62  architecturalstyledesc        70 non-null     object \n",
      " 63  buildingclassdesc             0 non-null      float64\n",
      " 64  heatingorsystemdesc           33849 non-null  object \n",
      " 65  propertylandusedesc           52319 non-null  object \n",
      " 66  storydesc                     47 non-null     object \n",
      " 67  typeconstructiondesc          76 non-null     object \n",
      "dtypes: float64(56), int64(2), object(10)\n",
      "memory usage: 27.1+ MB\n",
      "\n",
      "--- Column Description\n",
      "                  id      parcelid  airconditioningtypeid  \\\n",
      "count   5.231900e+04  5.231900e+04           13615.000000   \n",
      "unique           NaN           NaN                    NaN   \n",
      "top              NaN           NaN                    NaN   \n",
      "freq             NaN           NaN                    NaN   \n",
      "mean    1.496888e+06  1.299682e+07               2.439589   \n",
      "std     8.594310e+05  3.350951e+06               3.847925   \n",
      "min     3.490000e+02  1.071186e+07               1.000000   \n",
      "25%     7.575810e+05  1.151017e+07               1.000000   \n",
      "50%     1.500095e+06  1.257825e+07               1.000000   \n",
      "75%     2.241248e+06  1.413036e+07               1.000000   \n",
      "max     2.982270e+06  1.676878e+08              13.000000   \n",
      "\n",
      "        architecturalstyletypeid  basementsqft   bathroomcnt    bedroomcnt  \\\n",
      "count                   70.00000     47.000000  52319.000000  52319.000000   \n",
      "unique                       NaN           NaN           NaN           NaN   \n",
      "top                          NaN           NaN           NaN           NaN   \n",
      "freq                         NaN           NaN           NaN           NaN   \n",
      "mean                     7.10000    678.978723      2.300015      3.300770   \n",
      "std                      2.66567    711.825226      1.022816      0.947563   \n",
      "min                      2.00000     38.000000      0.000000      0.000000   \n",
      "25%                      7.00000    263.500000      2.000000      3.000000   \n",
      "50%                      7.00000    512.000000      2.000000      3.000000   \n",
      "75%                      7.00000    809.500000      3.000000      4.000000   \n",
      "max                     21.00000   3560.000000     18.000000     14.000000   \n",
      "\n",
      "        buildingclasstypeid  buildingqualitytypeid  calculatedbathnbr  ...  \\\n",
      "count                   0.0           33654.000000       52184.000000  ...   \n",
      "unique                  NaN                    NaN                NaN  ...   \n",
      "top                     NaN                    NaN                NaN  ...   \n",
      "freq                    NaN                    NaN                NaN  ...   \n",
      "mean                    NaN               6.264961           2.305276  ...   \n",
      "std                     NaN               1.716328           1.018076  ...   \n",
      "min                     NaN               1.000000           1.000000  ...   \n",
      "25%                     NaN               5.000000           2.000000  ...   \n",
      "50%                     NaN               6.000000           2.000000  ...   \n",
      "75%                     NaN               8.000000           3.000000  ...   \n",
      "max                     NaN              12.000000          18.000000  ...   \n",
      "\n",
      "        censustractandblock      logerror  transactiondate  \\\n",
      "count          5.219800e+04  52319.000000            52319   \n",
      "unique                  NaN           NaN              257   \n",
      "top                     NaN           NaN       2017-06-30   \n",
      "freq                    NaN           NaN              809   \n",
      "mean           6.050245e+13      0.018136              NaN   \n",
      "std            1.861145e+12      0.176904              NaN   \n",
      "min            6.037101e+13     -4.655420              NaN   \n",
      "25%            6.037401e+13     -0.024702              NaN   \n",
      "50%            6.037620e+13      0.006935              NaN   \n",
      "75%            6.059042e+13      0.040599              NaN   \n",
      "max            4.830301e+14      5.262999              NaN   \n",
      "\n",
      "        airconditioningdesc  architecturalstyledesc  buildingclassdesc  \\\n",
      "count                 13615                      70                0.0   \n",
      "unique                    4                       5                NaN   \n",
      "top                 Central            Contemporary                NaN   \n",
      "freq                  11873                      62                NaN   \n",
      "mean                    NaN                     NaN                NaN   \n",
      "std                     NaN                     NaN                NaN   \n",
      "min                     NaN                     NaN                NaN   \n",
      "25%                     NaN                     NaN                NaN   \n",
      "50%                     NaN                     NaN                NaN   \n",
      "75%                     NaN                     NaN                NaN   \n",
      "max                     NaN                     NaN                NaN   \n",
      "\n",
      "        heatingorsystemdesc        propertylandusedesc  storydesc  \\\n",
      "count                 33849                      52319         47   \n",
      "unique                    9                          1          1   \n",
      "top                 Central  Single Family Residential   Basement   \n",
      "freq                  20689                      52319         47   \n",
      "mean                    NaN                        NaN        NaN   \n",
      "std                     NaN                        NaN        NaN   \n",
      "min                     NaN                        NaN        NaN   \n",
      "25%                     NaN                        NaN        NaN   \n",
      "50%                     NaN                        NaN        NaN   \n",
      "75%                     NaN                        NaN        NaN   \n",
      "max                     NaN                        NaN        NaN   \n",
      "\n",
      "        typeconstructiondesc  \n",
      "count                     76  \n",
      "unique                     2  \n",
      "top                    Frame  \n",
      "freq                      75  \n",
      "mean                     NaN  \n",
      "std                      NaN  \n",
      "min                      NaN  \n",
      "25%                      NaN  \n",
      "50%                      NaN  \n",
      "75%                      NaN  \n",
      "max                      NaN  \n",
      "\n",
      "[11 rows x 68 columns]\n"
     ]
    }
   ],
   "source": [
    "#seeing what dataset looks like\n",
    "wrangle.df_summary(df)"
   ]
  },
  {
   "cell_type": "markdown",
   "id": "97f10b2c",
   "metadata": {},
   "source": [
    ">## Handling nulls and missing values:"
   ]
  },
  {
   "cell_type": "code",
   "execution_count": 4,
   "id": "62e57944",
   "metadata": {},
   "outputs": [
    {
     "data": {
      "text/html": [
       "<div>\n",
       "<style scoped>\n",
       "    .dataframe tbody tr th:only-of-type {\n",
       "        vertical-align: middle;\n",
       "    }\n",
       "\n",
       "    .dataframe tbody tr th {\n",
       "        vertical-align: top;\n",
       "    }\n",
       "\n",
       "    .dataframe thead th {\n",
       "        text-align: right;\n",
       "    }\n",
       "</style>\n",
       "<table border=\"1\" class=\"dataframe\">\n",
       "  <thead>\n",
       "    <tr style=\"text-align: right;\">\n",
       "      <th></th>\n",
       "      <th>count</th>\n",
       "      <th>percent</th>\n",
       "    </tr>\n",
       "  </thead>\n",
       "  <tbody>\n",
       "    <tr>\n",
       "      <th>buildingclassdesc</th>\n",
       "      <td>52319</td>\n",
       "      <td>1.000000</td>\n",
       "    </tr>\n",
       "    <tr>\n",
       "      <th>buildingclasstypeid</th>\n",
       "      <td>52319</td>\n",
       "      <td>1.000000</td>\n",
       "    </tr>\n",
       "    <tr>\n",
       "      <th>finishedsquarefeet15</th>\n",
       "      <td>52319</td>\n",
       "      <td>1.000000</td>\n",
       "    </tr>\n",
       "    <tr>\n",
       "      <th>finishedsquarefeet13</th>\n",
       "      <td>52319</td>\n",
       "      <td>1.000000</td>\n",
       "    </tr>\n",
       "    <tr>\n",
       "      <th>storytypeid</th>\n",
       "      <td>52272</td>\n",
       "      <td>0.999102</td>\n",
       "    </tr>\n",
       "    <tr>\n",
       "      <th>basementsqft</th>\n",
       "      <td>52272</td>\n",
       "      <td>0.999102</td>\n",
       "    </tr>\n",
       "    <tr>\n",
       "      <th>storydesc</th>\n",
       "      <td>52272</td>\n",
       "      <td>0.999102</td>\n",
       "    </tr>\n",
       "    <tr>\n",
       "      <th>yardbuildingsqft26</th>\n",
       "      <td>52256</td>\n",
       "      <td>0.998796</td>\n",
       "    </tr>\n",
       "    <tr>\n",
       "      <th>architecturalstyletypeid</th>\n",
       "      <td>52249</td>\n",
       "      <td>0.998662</td>\n",
       "    </tr>\n",
       "    <tr>\n",
       "      <th>architecturalstyledesc</th>\n",
       "      <td>52249</td>\n",
       "      <td>0.998662</td>\n",
       "    </tr>\n",
       "    <tr>\n",
       "      <th>typeconstructiondesc</th>\n",
       "      <td>52243</td>\n",
       "      <td>0.998547</td>\n",
       "    </tr>\n",
       "    <tr>\n",
       "      <th>typeconstructiontypeid</th>\n",
       "      <td>52243</td>\n",
       "      <td>0.998547</td>\n",
       "    </tr>\n",
       "    <tr>\n",
       "      <th>fireplaceflag</th>\n",
       "      <td>52238</td>\n",
       "      <td>0.998452</td>\n",
       "    </tr>\n",
       "    <tr>\n",
       "      <th>finishedsquarefeet6</th>\n",
       "      <td>52154</td>\n",
       "      <td>0.996846</td>\n",
       "    </tr>\n",
       "    <tr>\n",
       "      <th>decktypeid</th>\n",
       "      <td>51930</td>\n",
       "      <td>0.992565</td>\n",
       "    </tr>\n",
       "    <tr>\n",
       "      <th>pooltypeid10</th>\n",
       "      <td>51876</td>\n",
       "      <td>0.991533</td>\n",
       "    </tr>\n",
       "    <tr>\n",
       "      <th>poolsizesum</th>\n",
       "      <td>51454</td>\n",
       "      <td>0.983467</td>\n",
       "    </tr>\n",
       "    <tr>\n",
       "      <th>pooltypeid2</th>\n",
       "      <td>51248</td>\n",
       "      <td>0.979529</td>\n",
       "    </tr>\n",
       "    <tr>\n",
       "      <th>hashottuborspa</th>\n",
       "      <td>50805</td>\n",
       "      <td>0.971062</td>\n",
       "    </tr>\n",
       "    <tr>\n",
       "      <th>yardbuildingsqft17</th>\n",
       "      <td>50384</td>\n",
       "      <td>0.963015</td>\n",
       "    </tr>\n",
       "    <tr>\n",
       "      <th>taxdelinquencyyear</th>\n",
       "      <td>50251</td>\n",
       "      <td>0.960473</td>\n",
       "    </tr>\n",
       "    <tr>\n",
       "      <th>taxdelinquencyflag</th>\n",
       "      <td>50251</td>\n",
       "      <td>0.960473</td>\n",
       "    </tr>\n",
       "    <tr>\n",
       "      <th>finishedsquarefeet50</th>\n",
       "      <td>47948</td>\n",
       "      <td>0.916455</td>\n",
       "    </tr>\n",
       "    <tr>\n",
       "      <th>finishedfloor1squarefeet</th>\n",
       "      <td>47948</td>\n",
       "      <td>0.916455</td>\n",
       "    </tr>\n",
       "    <tr>\n",
       "      <th>threequarterbathnbr</th>\n",
       "      <td>45602</td>\n",
       "      <td>0.871615</td>\n",
       "    </tr>\n",
       "    <tr>\n",
       "      <th>fireplacecnt</th>\n",
       "      <td>45086</td>\n",
       "      <td>0.861752</td>\n",
       "    </tr>\n",
       "    <tr>\n",
       "      <th>pooltypeid7</th>\n",
       "      <td>42329</td>\n",
       "      <td>0.809056</td>\n",
       "    </tr>\n",
       "    <tr>\n",
       "      <th>poolcnt</th>\n",
       "      <td>41242</td>\n",
       "      <td>0.788280</td>\n",
       "    </tr>\n",
       "    <tr>\n",
       "      <th>airconditioningdesc</th>\n",
       "      <td>38704</td>\n",
       "      <td>0.739769</td>\n",
       "    </tr>\n",
       "    <tr>\n",
       "      <th>airconditioningtypeid</th>\n",
       "      <td>38704</td>\n",
       "      <td>0.739769</td>\n",
       "    </tr>\n",
       "    <tr>\n",
       "      <th>numberofstories</th>\n",
       "      <td>37787</td>\n",
       "      <td>0.722242</td>\n",
       "    </tr>\n",
       "    <tr>\n",
       "      <th>garagecarcnt</th>\n",
       "      <td>34335</td>\n",
       "      <td>0.656263</td>\n",
       "    </tr>\n",
       "    <tr>\n",
       "      <th>garagetotalsqft</th>\n",
       "      <td>34335</td>\n",
       "      <td>0.656263</td>\n",
       "    </tr>\n",
       "    <tr>\n",
       "      <th>regionidneighborhood</th>\n",
       "      <td>33338</td>\n",
       "      <td>0.637206</td>\n",
       "    </tr>\n",
       "    <tr>\n",
       "      <th>buildingqualitytypeid</th>\n",
       "      <td>18665</td>\n",
       "      <td>0.356754</td>\n",
       "    </tr>\n",
       "    <tr>\n",
       "      <th>unitcnt</th>\n",
       "      <td>18558</td>\n",
       "      <td>0.354709</td>\n",
       "    </tr>\n",
       "    <tr>\n",
       "      <th>propertyzoningdesc</th>\n",
       "      <td>18558</td>\n",
       "      <td>0.354709</td>\n",
       "    </tr>\n",
       "    <tr>\n",
       "      <th>heatingorsystemtypeid</th>\n",
       "      <td>18470</td>\n",
       "      <td>0.353027</td>\n",
       "    </tr>\n",
       "    <tr>\n",
       "      <th>heatingorsystemdesc</th>\n",
       "      <td>18470</td>\n",
       "      <td>0.353027</td>\n",
       "    </tr>\n",
       "    <tr>\n",
       "      <th>regionidcity</th>\n",
       "      <td>1036</td>\n",
       "      <td>0.019802</td>\n",
       "    </tr>\n",
       "    <tr>\n",
       "      <th>lotsizesquarefeet</th>\n",
       "      <td>366</td>\n",
       "      <td>0.006996</td>\n",
       "    </tr>\n",
       "    <tr>\n",
       "      <th>finishedsquarefeet12</th>\n",
       "      <td>246</td>\n",
       "      <td>0.004702</td>\n",
       "    </tr>\n",
       "    <tr>\n",
       "      <th>fullbathcnt</th>\n",
       "      <td>135</td>\n",
       "      <td>0.002580</td>\n",
       "    </tr>\n",
       "    <tr>\n",
       "      <th>calculatedbathnbr</th>\n",
       "      <td>135</td>\n",
       "      <td>0.002580</td>\n",
       "    </tr>\n",
       "    <tr>\n",
       "      <th>censustractandblock</th>\n",
       "      <td>121</td>\n",
       "      <td>0.002313</td>\n",
       "    </tr>\n",
       "    <tr>\n",
       "      <th>yearbuilt</th>\n",
       "      <td>114</td>\n",
       "      <td>0.002179</td>\n",
       "    </tr>\n",
       "    <tr>\n",
       "      <th>structuretaxvaluedollarcnt</th>\n",
       "      <td>82</td>\n",
       "      <td>0.001567</td>\n",
       "    </tr>\n",
       "    <tr>\n",
       "      <th>calculatedfinishedsquarefeet</th>\n",
       "      <td>81</td>\n",
       "      <td>0.001548</td>\n",
       "    </tr>\n",
       "    <tr>\n",
       "      <th>regionidzip</th>\n",
       "      <td>26</td>\n",
       "      <td>0.000497</td>\n",
       "    </tr>\n",
       "    <tr>\n",
       "      <th>taxamount</th>\n",
       "      <td>4</td>\n",
       "      <td>0.000076</td>\n",
       "    </tr>\n",
       "    <tr>\n",
       "      <th>taxvaluedollarcnt</th>\n",
       "      <td>1</td>\n",
       "      <td>0.000019</td>\n",
       "    </tr>\n",
       "    <tr>\n",
       "      <th>landtaxvaluedollarcnt</th>\n",
       "      <td>1</td>\n",
       "      <td>0.000019</td>\n",
       "    </tr>\n",
       "    <tr>\n",
       "      <th>logerror</th>\n",
       "      <td>0</td>\n",
       "      <td>0.000000</td>\n",
       "    </tr>\n",
       "    <tr>\n",
       "      <th>transactiondate</th>\n",
       "      <td>0</td>\n",
       "      <td>0.000000</td>\n",
       "    </tr>\n",
       "    <tr>\n",
       "      <th>propertylandusedesc</th>\n",
       "      <td>0</td>\n",
       "      <td>0.000000</td>\n",
       "    </tr>\n",
       "    <tr>\n",
       "      <th>id</th>\n",
       "      <td>0</td>\n",
       "      <td>0.000000</td>\n",
       "    </tr>\n",
       "    <tr>\n",
       "      <th>assessmentyear</th>\n",
       "      <td>0</td>\n",
       "      <td>0.000000</td>\n",
       "    </tr>\n",
       "    <tr>\n",
       "      <th>roomcnt</th>\n",
       "      <td>0</td>\n",
       "      <td>0.000000</td>\n",
       "    </tr>\n",
       "    <tr>\n",
       "      <th>regionidcounty</th>\n",
       "      <td>0</td>\n",
       "      <td>0.000000</td>\n",
       "    </tr>\n",
       "    <tr>\n",
       "      <th>rawcensustractandblock</th>\n",
       "      <td>0</td>\n",
       "      <td>0.000000</td>\n",
       "    </tr>\n",
       "    <tr>\n",
       "      <th>parcelid</th>\n",
       "      <td>0</td>\n",
       "      <td>0.000000</td>\n",
       "    </tr>\n",
       "    <tr>\n",
       "      <th>propertycountylandusecode</th>\n",
       "      <td>0</td>\n",
       "      <td>0.000000</td>\n",
       "    </tr>\n",
       "    <tr>\n",
       "      <th>longitude</th>\n",
       "      <td>0</td>\n",
       "      <td>0.000000</td>\n",
       "    </tr>\n",
       "    <tr>\n",
       "      <th>latitude</th>\n",
       "      <td>0</td>\n",
       "      <td>0.000000</td>\n",
       "    </tr>\n",
       "    <tr>\n",
       "      <th>fips</th>\n",
       "      <td>0</td>\n",
       "      <td>0.000000</td>\n",
       "    </tr>\n",
       "    <tr>\n",
       "      <th>bedroomcnt</th>\n",
       "      <td>0</td>\n",
       "      <td>0.000000</td>\n",
       "    </tr>\n",
       "    <tr>\n",
       "      <th>bathroomcnt</th>\n",
       "      <td>0</td>\n",
       "      <td>0.000000</td>\n",
       "    </tr>\n",
       "    <tr>\n",
       "      <th>propertylandusetypeid</th>\n",
       "      <td>0</td>\n",
       "      <td>0.000000</td>\n",
       "    </tr>\n",
       "  </tbody>\n",
       "</table>\n",
       "</div>"
      ],
      "text/plain": [
       "                              count   percent\n",
       "buildingclassdesc             52319  1.000000\n",
       "buildingclasstypeid           52319  1.000000\n",
       "finishedsquarefeet15          52319  1.000000\n",
       "finishedsquarefeet13          52319  1.000000\n",
       "storytypeid                   52272  0.999102\n",
       "basementsqft                  52272  0.999102\n",
       "storydesc                     52272  0.999102\n",
       "yardbuildingsqft26            52256  0.998796\n",
       "architecturalstyletypeid      52249  0.998662\n",
       "architecturalstyledesc        52249  0.998662\n",
       "typeconstructiondesc          52243  0.998547\n",
       "typeconstructiontypeid        52243  0.998547\n",
       "fireplaceflag                 52238  0.998452\n",
       "finishedsquarefeet6           52154  0.996846\n",
       "decktypeid                    51930  0.992565\n",
       "pooltypeid10                  51876  0.991533\n",
       "poolsizesum                   51454  0.983467\n",
       "pooltypeid2                   51248  0.979529\n",
       "hashottuborspa                50805  0.971062\n",
       "yardbuildingsqft17            50384  0.963015\n",
       "taxdelinquencyyear            50251  0.960473\n",
       "taxdelinquencyflag            50251  0.960473\n",
       "finishedsquarefeet50          47948  0.916455\n",
       "finishedfloor1squarefeet      47948  0.916455\n",
       "threequarterbathnbr           45602  0.871615\n",
       "fireplacecnt                  45086  0.861752\n",
       "pooltypeid7                   42329  0.809056\n",
       "poolcnt                       41242  0.788280\n",
       "airconditioningdesc           38704  0.739769\n",
       "airconditioningtypeid         38704  0.739769\n",
       "numberofstories               37787  0.722242\n",
       "garagecarcnt                  34335  0.656263\n",
       "garagetotalsqft               34335  0.656263\n",
       "regionidneighborhood          33338  0.637206\n",
       "buildingqualitytypeid         18665  0.356754\n",
       "unitcnt                       18558  0.354709\n",
       "propertyzoningdesc            18558  0.354709\n",
       "heatingorsystemtypeid         18470  0.353027\n",
       "heatingorsystemdesc           18470  0.353027\n",
       "regionidcity                   1036  0.019802\n",
       "lotsizesquarefeet               366  0.006996\n",
       "finishedsquarefeet12            246  0.004702\n",
       "fullbathcnt                     135  0.002580\n",
       "calculatedbathnbr               135  0.002580\n",
       "censustractandblock             121  0.002313\n",
       "yearbuilt                       114  0.002179\n",
       "structuretaxvaluedollarcnt       82  0.001567\n",
       "calculatedfinishedsquarefeet     81  0.001548\n",
       "regionidzip                      26  0.000497\n",
       "taxamount                         4  0.000076\n",
       "taxvaluedollarcnt                 1  0.000019\n",
       "landtaxvaluedollarcnt             1  0.000019\n",
       "logerror                          0  0.000000\n",
       "transactiondate                   0  0.000000\n",
       "propertylandusedesc               0  0.000000\n",
       "id                                0  0.000000\n",
       "assessmentyear                    0  0.000000\n",
       "roomcnt                           0  0.000000\n",
       "regionidcounty                    0  0.000000\n",
       "rawcensustractandblock            0  0.000000\n",
       "parcelid                          0  0.000000\n",
       "propertycountylandusecode         0  0.000000\n",
       "longitude                         0  0.000000\n",
       "latitude                          0  0.000000\n",
       "fips                              0  0.000000\n",
       "bedroomcnt                        0  0.000000\n",
       "bathroomcnt                       0  0.000000\n",
       "propertylandusetypeid             0  0.000000"
      ]
     },
     "execution_count": 4,
     "metadata": {},
     "output_type": "execute_result"
    }
   ],
   "source": [
    "#setting up missing values function, to catch only the %%% of data that\n",
    "#is already there, and not missing.\n",
    "\n",
    "#checking nulls by columns of the percent of nulls found:\n",
    "\n",
    "wrangle.nulls_by_columns(df).sort_values(by='percent', ascending=False)\n"
   ]
  },
  {
   "cell_type": "code",
   "execution_count": 5,
   "id": "3daad674",
   "metadata": {},
   "outputs": [
    {
     "data": {
      "text/plain": [
       "n_missing  percent_missing\n",
       "23         0.338235               2\n",
       "24         0.352941              12\n",
       "25         0.367647              11\n",
       "26         0.382353              30\n",
       "27         0.397059             177\n",
       "28         0.411765             390\n",
       "29         0.426471            2527\n",
       "30         0.441176            2199\n",
       "31         0.455882            5989\n",
       "32         0.470588            8885\n",
       "33         0.485294           11967\n",
       "34         0.500000           11157\n",
       "35         0.514706            3469\n",
       "36         0.529412            4138\n",
       "37         0.544118            1020\n",
       "38         0.558824             223\n",
       "39         0.573529              29\n",
       "40         0.588235              15\n",
       "41         0.602941               6\n",
       "42         0.617647               7\n",
       "43         0.632353              10\n",
       "44         0.647059              46\n",
       "45         0.661765               6\n",
       "46         0.676471               1\n",
       "47         0.691176               1\n",
       "48         0.705882               2\n",
       "dtype: int64"
      ]
     },
     "execution_count": 5,
     "metadata": {},
     "output_type": "execute_result"
    }
   ],
   "source": [
    "#now let's look at nulls by rows:\n",
    "wrangle.nulls_by_rows(df)"
   ]
  },
  {
   "cell_type": "markdown",
   "id": "2649694b",
   "metadata": {},
   "source": [
    "### TAKE AWAYS:\n",
    "- For missing values in columns, there is a big difference between regionneighborhood (60% missing) vs building quality type (38%), so I will will set my columns at 60%, since I do want to capture the regionneighborhood.\n",
    "- Columns missing values I'll keep at 60% as it looks to be a good split on what is missing."
   ]
  },
  {
   "cell_type": "code",
   "execution_count": 6,
   "id": "205ab45b",
   "metadata": {},
   "outputs": [
    {
     "name": "stdout",
     "output_type": "stream",
     "text": [
      "Before dropping nulls, 52319 rows, 68 cols\n",
      "After dropping nulls, 52319 rows, 34 cols\n"
     ]
    }
   ],
   "source": [
    "#using 60/60 first to see what dataset looks like:\n",
    "print('Before dropping nulls, %d rows, %d cols' % df.shape)\n",
    "\n",
    "#dropping the cols & rows that do not meet the 60/60 standard\n",
    "df = wrangle.handle_missing_values(df, prop_required_column=.6, prop_required_row=.60)\n",
    "print('After dropping nulls, %d rows, %d cols' % df.shape)"
   ]
  },
  {
   "cell_type": "code",
   "execution_count": 7,
   "id": "4a3bb8db",
   "metadata": {},
   "outputs": [
    {
     "data": {
      "text/plain": [
       "id                                  0\n",
       "parcelid                            0\n",
       "bathroomcnt                         0\n",
       "bedroomcnt                          0\n",
       "buildingqualitytypeid           18665\n",
       "calculatedbathnbr                 135\n",
       "calculatedfinishedsquarefeet       81\n",
       "finishedsquarefeet12              246\n",
       "fips                                0\n",
       "fullbathcnt                       135\n",
       "heatingorsystemtypeid           18470\n",
       "latitude                            0\n",
       "longitude                           0\n",
       "lotsizesquarefeet                 366\n",
       "propertycountylandusecode           0\n",
       "propertylandusetypeid               0\n",
       "propertyzoningdesc              18558\n",
       "rawcensustractandblock              0\n",
       "regionidcity                     1036\n",
       "regionidcounty                      0\n",
       "regionidzip                        26\n",
       "roomcnt                             0\n",
       "unitcnt                         18558\n",
       "yearbuilt                         114\n",
       "structuretaxvaluedollarcnt         82\n",
       "taxvaluedollarcnt                   1\n",
       "assessmentyear                      0\n",
       "landtaxvaluedollarcnt               1\n",
       "taxamount                           4\n",
       "censustractandblock               121\n",
       "logerror                            0\n",
       "transactiondate                     0\n",
       "heatingorsystemdesc             18470\n",
       "propertylandusedesc                 0\n",
       "dtype: int64"
      ]
     },
     "execution_count": 7,
     "metadata": {},
     "output_type": "execute_result"
    }
   ],
   "source": [
    "#taking a look at what nulls are left\n",
    "df.isnull().sum()"
   ]
  },
  {
   "cell_type": "markdown",
   "id": "e30724ae",
   "metadata": {},
   "source": [
    "#### For my next null steps:\n",
    "    - I'll drop all the larger null columns.\n",
    "    - I'll drop all columns that reiterate information too.\n",
    "    - I'll then decide what to do with leftover row nulls"
   ]
  },
  {
   "cell_type": "code",
   "execution_count": 8,
   "id": "18cfbea1",
   "metadata": {},
   "outputs": [
    {
     "data": {
      "text/plain": [
       "parcelid                          0\n",
       "bathroomcnt                       0\n",
       "bedroomcnt                        0\n",
       "calculatedfinishedsquarefeet     81\n",
       "fips                              0\n",
       "latitude                          0\n",
       "longitude                         0\n",
       "lotsizesquarefeet               366\n",
       "propertylandusetypeid             0\n",
       "rawcensustractandblock            0\n",
       "regionidcounty                    0\n",
       "regionidzip                      26\n",
       "roomcnt                           0\n",
       "yearbuilt                       114\n",
       "taxvaluedollarcnt                 1\n",
       "assessmentyear                    0\n",
       "logerror                          0\n",
       "dtype: int64"
      ]
     },
     "execution_count": 8,
     "metadata": {},
     "output_type": "execute_result"
    }
   ],
   "source": [
    "#creating a function to remove unwanted columns (*may add/change later)\n",
    "\n",
    "cols_to_remove = ['propertycountylandusecode','propertylandusedesc','propertyzoningdesc','buildingqualitytypeid','heatingorsystemtypeid','unitcnt','heatingorsystemdesc','calculatedbathnbr','id','finishedsquarefeet12','fullbathcnt','structuretaxvaluedollarcnt','landtaxvaluedollarcnt','taxamount','regionidcity','censustractandblock','transactiondate']\n",
    "def remove_columns(df, cols_to_remove): \n",
    "    df = df.drop(columns=cols_to_remove)\n",
    "    return df\n",
    "\n",
    "df= remove_columns(df, cols_to_remove )\n",
    "df.isnull().sum()"
   ]
  },
  {
   "cell_type": "code",
   "execution_count": 9,
   "id": "4f528d4e",
   "metadata": {},
   "outputs": [
    {
     "data": {
      "text/plain": [
       "11323.453910265047"
      ]
     },
     "execution_count": 9,
     "metadata": {},
     "output_type": "execute_result"
    }
   ],
   "source": [
    "#considering how to handle each low count null...\n",
    "df.lotsizesquarefeet.mean()"
   ]
  },
  {
   "cell_type": "code",
   "execution_count": 10,
   "id": "b06117b5",
   "metadata": {},
   "outputs": [
    {
     "data": {
      "text/plain": [
       "6000.0     873\n",
       "5000.0     413\n",
       "7200.0     306\n",
       "7000.0     285\n",
       "6500.0     272\n",
       "          ... \n",
       "18024.0      1\n",
       "20673.0      1\n",
       "4775.0       1\n",
       "9367.0       1\n",
       "47405.0      1\n",
       "Name: lotsizesquarefeet, Length: 14292, dtype: int64"
      ]
     },
     "execution_count": 10,
     "metadata": {},
     "output_type": "execute_result"
    }
   ],
   "source": [
    "#looking at value_counts() for each leftover nulls\n",
    "df.lotsizesquarefeet.value_counts()"
   ]
  },
  {
   "cell_type": "markdown",
   "id": "5aaf7b60",
   "metadata": {},
   "source": [
    "### TAKEAWAYS:\n",
    "\n",
    "After thinking about what the nulls might be in these rows, I have decided to drop them as I think for the lotsize and calculatedsqft, these will be dropped anyways once I apply the outlier ranges."
   ]
  },
  {
   "cell_type": "code",
   "execution_count": 11,
   "id": "277f3e14",
   "metadata": {},
   "outputs": [
    {
     "data": {
      "text/plain": [
       "parcelid                        0\n",
       "bathroomcnt                     0\n",
       "bedroomcnt                      0\n",
       "calculatedfinishedsquarefeet    0\n",
       "fips                            0\n",
       "latitude                        0\n",
       "longitude                       0\n",
       "lotsizesquarefeet               0\n",
       "propertylandusetypeid           0\n",
       "rawcensustractandblock          0\n",
       "regionidcounty                  0\n",
       "regionidzip                     0\n",
       "roomcnt                         0\n",
       "yearbuilt                       0\n",
       "taxvaluedollarcnt               0\n",
       "assessmentyear                  0\n",
       "logerror                        0\n",
       "dtype: int64"
      ]
     },
     "execution_count": 11,
     "metadata": {},
     "output_type": "execute_result"
    }
   ],
   "source": [
    "#dropping the rest of the nulls as losing that many rows out of 52,000 shouldn't affect my data by much\n",
    "def drop_r_nulls(df):\n",
    "    df = df.dropna()\n",
    "    return df\n",
    "\n",
    "df = drop_r_nulls(df)\n",
    "df.isnull().sum()"
   ]
  },
  {
   "cell_type": "markdown",
   "id": "a7902e87",
   "metadata": {},
   "source": [
    "_______________________________________________________________________________________________________"
   ]
  },
  {
   "cell_type": "markdown",
   "id": "aac3c5ae",
   "metadata": {},
   "source": [
    ">## Looking at Dtypes:"
   ]
  },
  {
   "cell_type": "code",
   "execution_count": 12,
   "id": "25aef47d",
   "metadata": {},
   "outputs": [
    {
     "data": {
      "text/plain": [
       "parcelid                          int64\n",
       "bathroomcnt                     float64\n",
       "bedroomcnt                      float64\n",
       "calculatedfinishedsquarefeet    float64\n",
       "fips                            float64\n",
       "latitude                        float64\n",
       "longitude                       float64\n",
       "lotsizesquarefeet               float64\n",
       "propertylandusetypeid           float64\n",
       "rawcensustractandblock          float64\n",
       "regionidcounty                  float64\n",
       "regionidzip                     float64\n",
       "roomcnt                         float64\n",
       "yearbuilt                       float64\n",
       "taxvaluedollarcnt               float64\n",
       "assessmentyear                  float64\n",
       "logerror                        float64\n",
       "dtype: object"
      ]
     },
     "execution_count": 12,
     "metadata": {},
     "output_type": "execute_result"
    }
   ],
   "source": [
    "df.dtypes"
   ]
  },
  {
   "cell_type": "markdown",
   "id": "a1eb81cc",
   "metadata": {},
   "source": [
    "### Takeaways:\n",
    "- I want to create most of these as int to work with on clustering and prep when I want to scale.\n",
    "- I will leave the object columns alone (and will one-hot-encode fips)"
   ]
  },
  {
   "cell_type": "code",
   "execution_count": 13,
   "id": "ca25bd7e",
   "metadata": {},
   "outputs": [
    {
     "name": "stdout",
     "output_type": "stream",
     "text": [
      "<class 'pandas.core.frame.DataFrame'>\n",
      "Int64Index: 51836 entries, 0 to 52318\n",
      "Data columns (total 17 columns):\n",
      " #   Column                        Non-Null Count  Dtype\n",
      "---  ------                        --------------  -----\n",
      " 0   parcelid                      51836 non-null  int64\n",
      " 1   bathroomcnt                   51836 non-null  int64\n",
      " 2   bedroomcnt                    51836 non-null  int64\n",
      " 3   calculatedfinishedsquarefeet  51836 non-null  int64\n",
      " 4   fips                          51836 non-null  int64\n",
      " 5   latitude                      51836 non-null  int64\n",
      " 6   longitude                     51836 non-null  int64\n",
      " 7   lotsizesquarefeet             51836 non-null  int64\n",
      " 8   propertylandusetypeid         51836 non-null  int64\n",
      " 9   rawcensustractandblock        51836 non-null  int64\n",
      " 10  regionidcounty                51836 non-null  int64\n",
      " 11  regionidzip                   51836 non-null  int64\n",
      " 12  roomcnt                       51836 non-null  int64\n",
      " 13  yearbuilt                     51836 non-null  int64\n",
      " 14  taxvaluedollarcnt             51836 non-null  int64\n",
      " 15  assessmentyear                51836 non-null  int64\n",
      " 16  logerror                      51836 non-null  int64\n",
      "dtypes: int64(17)\n",
      "memory usage: 7.1 MB\n"
     ]
    }
   ],
   "source": [
    "# Change all column data types to int64, reassign to df, and verify.\n",
    "\n",
    "df = df.astype('int')\n",
    "df.info()\n",
    "\n",
    "#creating a function to add to wrangle.py\n",
    "def dtypes(df):\n",
    "    df = df.astype('int')\n",
    "    return df"
   ]
  },
  {
   "cell_type": "markdown",
   "id": "801b2fdc",
   "metadata": {},
   "source": [
    "## Split the Data:\n",
    "\n",
    "Using the Train, Validate, Test split function from my Regression project:\n",
    "<br>- First, using 80/20 split between Train and Test\n",
    "<br>- Then, using 70/30 split and stratifying on fips(county) for even mix of data between each county"
   ]
  },
  {
   "cell_type": "code",
   "execution_count": 17,
   "id": "3c2d90b0",
   "metadata": {},
   "outputs": [
    {
     "data": {
      "text/html": [
       "<div>\n",
       "<style scoped>\n",
       "    .dataframe tbody tr th:only-of-type {\n",
       "        vertical-align: middle;\n",
       "    }\n",
       "\n",
       "    .dataframe tbody tr th {\n",
       "        vertical-align: top;\n",
       "    }\n",
       "\n",
       "    .dataframe thead th {\n",
       "        text-align: right;\n",
       "    }\n",
       "</style>\n",
       "<table border=\"1\" class=\"dataframe\">\n",
       "  <thead>\n",
       "    <tr style=\"text-align: right;\">\n",
       "      <th></th>\n",
       "      <th>parcelid</th>\n",
       "      <th>bathroomcnt</th>\n",
       "      <th>bedroomcnt</th>\n",
       "      <th>calculatedfinishedsquarefeet</th>\n",
       "      <th>fips</th>\n",
       "      <th>latitude</th>\n",
       "      <th>longitude</th>\n",
       "      <th>lotsizesquarefeet</th>\n",
       "      <th>propertylandusetypeid</th>\n",
       "      <th>rawcensustractandblock</th>\n",
       "      <th>regionidcounty</th>\n",
       "      <th>regionidzip</th>\n",
       "      <th>roomcnt</th>\n",
       "      <th>yearbuilt</th>\n",
       "      <th>taxvaluedollarcnt</th>\n",
       "      <th>assessmentyear</th>\n",
       "      <th>logerror</th>\n",
       "    </tr>\n",
       "  </thead>\n",
       "  <tbody>\n",
       "    <tr>\n",
       "      <th>34222</th>\n",
       "      <td>11533536</td>\n",
       "      <td>1</td>\n",
       "      <td>2</td>\n",
       "      <td>864</td>\n",
       "      <td>6037</td>\n",
       "      <td>33986536</td>\n",
       "      <td>-118424309</td>\n",
       "      <td>5002</td>\n",
       "      <td>261</td>\n",
       "      <td>60372753</td>\n",
       "      <td>3101</td>\n",
       "      <td>96047</td>\n",
       "      <td>0</td>\n",
       "      <td>1950</td>\n",
       "      <td>787004</td>\n",
       "      <td>2016</td>\n",
       "      <td>0</td>\n",
       "    </tr>\n",
       "    <tr>\n",
       "      <th>21551</th>\n",
       "      <td>11058331</td>\n",
       "      <td>2</td>\n",
       "      <td>3</td>\n",
       "      <td>1243</td>\n",
       "      <td>6037</td>\n",
       "      <td>34270033</td>\n",
       "      <td>-118492886</td>\n",
       "      <td>7795</td>\n",
       "      <td>261</td>\n",
       "      <td>60371111</td>\n",
       "      <td>3101</td>\n",
       "      <td>96370</td>\n",
       "      <td>0</td>\n",
       "      <td>1953</td>\n",
       "      <td>174930</td>\n",
       "      <td>2016</td>\n",
       "      <td>0</td>\n",
       "    </tr>\n",
       "    <tr>\n",
       "      <th>39107</th>\n",
       "      <td>14003091</td>\n",
       "      <td>2</td>\n",
       "      <td>4</td>\n",
       "      <td>1157</td>\n",
       "      <td>6059</td>\n",
       "      <td>33794310</td>\n",
       "      <td>-117985512</td>\n",
       "      <td>7350</td>\n",
       "      <td>261</td>\n",
       "      <td>60590879</td>\n",
       "      <td>1286</td>\n",
       "      <td>97023</td>\n",
       "      <td>7</td>\n",
       "      <td>1954</td>\n",
       "      <td>274539</td>\n",
       "      <td>2016</td>\n",
       "      <td>0</td>\n",
       "    </tr>\n",
       "    <tr>\n",
       "      <th>9029</th>\n",
       "      <td>14208016</td>\n",
       "      <td>2</td>\n",
       "      <td>3</td>\n",
       "      <td>1491</td>\n",
       "      <td>6059</td>\n",
       "      <td>33861905</td>\n",
       "      <td>-117769542</td>\n",
       "      <td>6000</td>\n",
       "      <td>261</td>\n",
       "      <td>60590219</td>\n",
       "      <td>1286</td>\n",
       "      <td>97027</td>\n",
       "      <td>6</td>\n",
       "      <td>1975</td>\n",
       "      <td>523394</td>\n",
       "      <td>2016</td>\n",
       "      <td>0</td>\n",
       "    </tr>\n",
       "    <tr>\n",
       "      <th>2982</th>\n",
       "      <td>10844442</td>\n",
       "      <td>2</td>\n",
       "      <td>4</td>\n",
       "      <td>1843</td>\n",
       "      <td>6037</td>\n",
       "      <td>34173761</td>\n",
       "      <td>-118454651</td>\n",
       "      <td>7202</td>\n",
       "      <td>261</td>\n",
       "      <td>60371284</td>\n",
       "      <td>3101</td>\n",
       "      <td>96420</td>\n",
       "      <td>0</td>\n",
       "      <td>1949</td>\n",
       "      <td>113758</td>\n",
       "      <td>2016</td>\n",
       "      <td>0</td>\n",
       "    </tr>\n",
       "  </tbody>\n",
       "</table>\n",
       "</div>"
      ],
      "text/plain": [
       "       parcelid  bathroomcnt  bedroomcnt  calculatedfinishedsquarefeet  fips  \\\n",
       "34222  11533536            1           2                           864  6037   \n",
       "21551  11058331            2           3                          1243  6037   \n",
       "39107  14003091            2           4                          1157  6059   \n",
       "9029   14208016            2           3                          1491  6059   \n",
       "2982   10844442            2           4                          1843  6037   \n",
       "\n",
       "       latitude  longitude  lotsizesquarefeet  propertylandusetypeid  \\\n",
       "34222  33986536 -118424309               5002                    261   \n",
       "21551  34270033 -118492886               7795                    261   \n",
       "39107  33794310 -117985512               7350                    261   \n",
       "9029   33861905 -117769542               6000                    261   \n",
       "2982   34173761 -118454651               7202                    261   \n",
       "\n",
       "       rawcensustractandblock  regionidcounty  regionidzip  roomcnt  \\\n",
       "34222                60372753            3101        96047        0   \n",
       "21551                60371111            3101        96370        0   \n",
       "39107                60590879            1286        97023        7   \n",
       "9029                 60590219            1286        97027        6   \n",
       "2982                 60371284            3101        96420        0   \n",
       "\n",
       "       yearbuilt  taxvaluedollarcnt  assessmentyear  logerror  \n",
       "34222       1950             787004            2016         0  \n",
       "21551       1953             174930            2016         0  \n",
       "39107       1954             274539            2016         0  \n",
       "9029        1975             523394            2016         0  \n",
       "2982        1949             113758            2016         0  "
      ]
     },
     "execution_count": 17,
     "metadata": {},
     "output_type": "execute_result"
    }
   ],
   "source": [
    "def split_data(df):\n",
    "    '''\n",
    "    take in a DataFrame and return train, validate, and test DataFrames; stratify on species.\n",
    "    return train, validate, test DataFrames.\n",
    "    '''\n",
    "    \n",
    "    # splits df into train_validate and test using train_test_split() stratifying on species to get an even mix of each species\n",
    "    train_validate, test = train_test_split(df, test_size=.2, random_state=123, stratify=df.fips)\n",
    "    \n",
    "    # splits train_validate into train and validate using train_test_split() stratifying on species to get an even mix of each species\n",
    "    train, validate = train_test_split(train_validate, \n",
    "                                       test_size=.3, \n",
    "                                       random_state=123, \n",
    "                                       stratify=train_validate.fips)\n",
    "    return train, validate, test\n",
    "\n",
    "\n",
    "train, validate, test = wrangle.split_data(df)\n",
    "train.head()"
   ]
  },
  {
   "cell_type": "markdown",
   "id": "a453d1e3",
   "metadata": {},
   "source": [
    "## Encoding the Data:\n",
    ">#### I want to encode the fips column so that I can use it as a feature for comparing clusters to other features\n",
    "-I will use Los Angeles County as the main predictor for this column, as I already known from using this data that this is the largest county with the most dataset."
   ]
  },
  {
   "cell_type": "code",
   "execution_count": 20,
   "id": "01fa9ee1",
   "metadata": {},
   "outputs": [
    {
     "data": {
      "text/html": [
       "<div>\n",
       "<style scoped>\n",
       "    .dataframe tbody tr th:only-of-type {\n",
       "        vertical-align: middle;\n",
       "    }\n",
       "\n",
       "    .dataframe tbody tr th {\n",
       "        vertical-align: top;\n",
       "    }\n",
       "\n",
       "    .dataframe thead th {\n",
       "        text-align: right;\n",
       "    }\n",
       "</style>\n",
       "<table border=\"1\" class=\"dataframe\">\n",
       "  <thead>\n",
       "    <tr style=\"text-align: right;\">\n",
       "      <th></th>\n",
       "      <th>parcelid</th>\n",
       "      <th>bathroomcnt</th>\n",
       "      <th>bedroomcnt</th>\n",
       "      <th>calculatedfinishedsquarefeet</th>\n",
       "      <th>fips</th>\n",
       "      <th>latitude</th>\n",
       "      <th>longitude</th>\n",
       "      <th>lotsizesquarefeet</th>\n",
       "      <th>propertylandusetypeid</th>\n",
       "      <th>rawcensustractandblock</th>\n",
       "      <th>regionidcounty</th>\n",
       "      <th>regionidzip</th>\n",
       "      <th>roomcnt</th>\n",
       "      <th>yearbuilt</th>\n",
       "      <th>taxvaluedollarcnt</th>\n",
       "      <th>assessmentyear</th>\n",
       "      <th>logerror</th>\n",
       "      <th>is_Los_Angeles</th>\n",
       "    </tr>\n",
       "  </thead>\n",
       "  <tbody>\n",
       "    <tr>\n",
       "      <th>34222</th>\n",
       "      <td>11533536</td>\n",
       "      <td>1</td>\n",
       "      <td>2</td>\n",
       "      <td>864</td>\n",
       "      <td>6037</td>\n",
       "      <td>33986536</td>\n",
       "      <td>-118424309</td>\n",
       "      <td>5002</td>\n",
       "      <td>261</td>\n",
       "      <td>60372753</td>\n",
       "      <td>3101</td>\n",
       "      <td>96047</td>\n",
       "      <td>0</td>\n",
       "      <td>1950</td>\n",
       "      <td>787004</td>\n",
       "      <td>2016</td>\n",
       "      <td>0</td>\n",
       "      <td>1</td>\n",
       "    </tr>\n",
       "    <tr>\n",
       "      <th>21551</th>\n",
       "      <td>11058331</td>\n",
       "      <td>2</td>\n",
       "      <td>3</td>\n",
       "      <td>1243</td>\n",
       "      <td>6037</td>\n",
       "      <td>34270033</td>\n",
       "      <td>-118492886</td>\n",
       "      <td>7795</td>\n",
       "      <td>261</td>\n",
       "      <td>60371111</td>\n",
       "      <td>3101</td>\n",
       "      <td>96370</td>\n",
       "      <td>0</td>\n",
       "      <td>1953</td>\n",
       "      <td>174930</td>\n",
       "      <td>2016</td>\n",
       "      <td>0</td>\n",
       "      <td>1</td>\n",
       "    </tr>\n",
       "    <tr>\n",
       "      <th>39107</th>\n",
       "      <td>14003091</td>\n",
       "      <td>2</td>\n",
       "      <td>4</td>\n",
       "      <td>1157</td>\n",
       "      <td>6059</td>\n",
       "      <td>33794310</td>\n",
       "      <td>-117985512</td>\n",
       "      <td>7350</td>\n",
       "      <td>261</td>\n",
       "      <td>60590879</td>\n",
       "      <td>1286</td>\n",
       "      <td>97023</td>\n",
       "      <td>7</td>\n",
       "      <td>1954</td>\n",
       "      <td>274539</td>\n",
       "      <td>2016</td>\n",
       "      <td>0</td>\n",
       "      <td>0</td>\n",
       "    </tr>\n",
       "    <tr>\n",
       "      <th>9029</th>\n",
       "      <td>14208016</td>\n",
       "      <td>2</td>\n",
       "      <td>3</td>\n",
       "      <td>1491</td>\n",
       "      <td>6059</td>\n",
       "      <td>33861905</td>\n",
       "      <td>-117769542</td>\n",
       "      <td>6000</td>\n",
       "      <td>261</td>\n",
       "      <td>60590219</td>\n",
       "      <td>1286</td>\n",
       "      <td>97027</td>\n",
       "      <td>6</td>\n",
       "      <td>1975</td>\n",
       "      <td>523394</td>\n",
       "      <td>2016</td>\n",
       "      <td>0</td>\n",
       "      <td>0</td>\n",
       "    </tr>\n",
       "    <tr>\n",
       "      <th>2982</th>\n",
       "      <td>10844442</td>\n",
       "      <td>2</td>\n",
       "      <td>4</td>\n",
       "      <td>1843</td>\n",
       "      <td>6037</td>\n",
       "      <td>34173761</td>\n",
       "      <td>-118454651</td>\n",
       "      <td>7202</td>\n",
       "      <td>261</td>\n",
       "      <td>60371284</td>\n",
       "      <td>3101</td>\n",
       "      <td>96420</td>\n",
       "      <td>0</td>\n",
       "      <td>1949</td>\n",
       "      <td>113758</td>\n",
       "      <td>2016</td>\n",
       "      <td>0</td>\n",
       "      <td>1</td>\n",
       "    </tr>\n",
       "  </tbody>\n",
       "</table>\n",
       "</div>"
      ],
      "text/plain": [
       "       parcelid  bathroomcnt  bedroomcnt  calculatedfinishedsquarefeet  fips  \\\n",
       "34222  11533536            1           2                           864  6037   \n",
       "21551  11058331            2           3                          1243  6037   \n",
       "39107  14003091            2           4                          1157  6059   \n",
       "9029   14208016            2           3                          1491  6059   \n",
       "2982   10844442            2           4                          1843  6037   \n",
       "\n",
       "       latitude  longitude  lotsizesquarefeet  propertylandusetypeid  \\\n",
       "34222  33986536 -118424309               5002                    261   \n",
       "21551  34270033 -118492886               7795                    261   \n",
       "39107  33794310 -117985512               7350                    261   \n",
       "9029   33861905 -117769542               6000                    261   \n",
       "2982   34173761 -118454651               7202                    261   \n",
       "\n",
       "       rawcensustractandblock  regionidcounty  regionidzip  roomcnt  \\\n",
       "34222                60372753            3101        96047        0   \n",
       "21551                60371111            3101        96370        0   \n",
       "39107                60590879            1286        97023        7   \n",
       "9029                 60590219            1286        97027        6   \n",
       "2982                 60371284            3101        96420        0   \n",
       "\n",
       "       yearbuilt  taxvaluedollarcnt  assessmentyear  logerror  is_Los_Angeles  \n",
       "34222       1950             787004            2016         0               1  \n",
       "21551       1953             174930            2016         0               1  \n",
       "39107       1954             274539            2016         0               0  \n",
       "9029        1975             523394            2016         0               0  \n",
       "2982        1949             113758            2016         0               1  "
      ]
     },
     "execution_count": 20,
     "metadata": {},
     "output_type": "execute_result"
    }
   ],
   "source": [
    "#encode fips\n",
    "def one_hot_encode(train):\n",
    "    train['is_Los_Angeles'] = train.fips == 6037.0\n",
    "    return train\n",
    "\n",
    "one_hot_encode(train)\n",
    "\n",
    "#and then I need to turn this new column into an int:\n",
    "train[\"is_Los_Angeles\"] = train[\"is_Los_Angeles\"].astype(int)\n",
    "train.head()"
   ]
  },
  {
   "cell_type": "markdown",
   "id": "bdc638e7",
   "metadata": {},
   "source": [
    "## Data Distributions:\n",
    "Looking at each feature and its distribution through histograms:"
   ]
  },
  {
   "cell_type": "code",
   "execution_count": 21,
   "id": "18fdc40e",
   "metadata": {},
   "outputs": [
    {
     "data": {
      "image/png": "[encoded data removed]",
      "text/plain": [
       "<Figure size 288x144 with 1 Axes>"
      ]
     },
     "metadata": {
      "needs_background": "light"
     },
     "output_type": "display_data"
    },
    {
     "data": {
      "image/png": "[encoded data removed]",
      "text/plain": [
       "<Figure size 288x144 with 1 Axes>"
      ]
     },
     "metadata": {
      "needs_background": "light"
     },
     "output_type": "display_data"
    },
    {
     "data": {
      "image/png": "[encoded data removed]",
      "text/plain": [
       "<Figure size 288x144 with 1 Axes>"
      ]
     },
     "metadata": {
      "needs_background": "light"
     },
     "output_type": "display_data"
    },
    {
     "data": {
      "image/png": "[encoded data removed]",
      "text/plain": [
       "<Figure size 288x144 with 1 Axes>"
      ]
     },
     "metadata": {
      "needs_background": "light"
     },
     "output_type": "display_data"
    },
    {
     "data": {
      "image/png": "[encoded data removed]",
      "text/plain": [
       "<Figure size 288x144 with 1 Axes>"
      ]
     },
     "metadata": {
      "needs_background": "light"
     },
     "output_type": "display_data"
    },
    {
     "data": {
      "image/png": "[encoded data removed]",
      "text/plain": [
       "<Figure size 288x144 with 1 Axes>"
      ]
     },
     "metadata": {
      "needs_background": "light"
     },
     "output_type": "display_data"
    },
    {
     "data": {
      "image/png": "[encoded data removed]",
      "text/plain": [
       "<Figure size 288x144 with 1 Axes>"
      ]
     },
     "metadata": {
      "needs_background": "light"
     },
     "output_type": "display_data"
    },
    {
     "data": {
      "image/png": "[encoded data removed]",
      "text/plain": [
       "<Figure size 288x144 with 1 Axes>"
      ]
     },
     "metadata": {
      "needs_background": "light"
     },
     "output_type": "display_data"
    },
    {
     "data": {
      "image/png": "[encoded data removed]",
      "text/plain": [
       "<Figure size 288x144 with 1 Axes>"
      ]
     },
     "metadata": {
      "needs_background": "light"
     },
     "output_type": "display_data"
    },
    {
     "data": {
      "image/png": "[encoded data removed]",
      "text/plain": [
       "<Figure size 288x144 with 1 Axes>"
      ]
     },
     "metadata": {
      "needs_background": "light"
     },
     "output_type": "display_data"
    },
    {
     "data": {
      "image/png": "[encoded data removed]",
      "text/plain": [
       "<Figure size 288x144 with 1 Axes>"
      ]
     },
     "metadata": {
      "needs_background": "light"
     },
     "output_type": "display_data"
    },
    {
     "data": {
      "image/png": "[encoded data removed]",
      "text/plain": [
       "<Figure size 288x144 with 1 Axes>"
      ]
     },
     "metadata": {
      "needs_background": "light"
     },
     "output_type": "display_data"
    },
    {
     "data": {
      "image/png": "[encoded data removed]",
      "text/plain": [
       "<Figure size 288x144 with 1 Axes>"
      ]
     },
     "metadata": {
      "needs_background": "light"
     },
     "output_type": "display_data"
    },
    {
     "data": {
      "image/png": "[encoded data removed]",
      "text/plain": [
       "<Figure size 288x144 with 1 Axes>"
      ]
     },
     "metadata": {
      "needs_background": "light"
     },
     "output_type": "display_data"
    },
    {
     "data": {
      "image/png": "[encoded data removed]",
      "text/plain": [
       "<Figure size 288x144 with 1 Axes>"
      ]
     },
     "metadata": {
      "needs_background": "light"
     },
     "output_type": "display_data"
    },
    {
     "data": {
      "image/png": "[encoded data removed]",
      "text/plain": [
       "<Figure size 288x144 with 1 Axes>"
      ]
     },
     "metadata": {
      "needs_background": "light"
     },
     "output_type": "display_data"
    },
    {
     "data": {
      "image/png": "[encoded data removed]",
      "text/plain": [
       "<Figure size 288x144 with 1 Axes>"
      ]
     },
     "metadata": {
      "needs_background": "light"
     },
     "output_type": "display_data"
    },
    {
     "data": {
      "image/png": "[encoded data removed]",
      "text/plain": [
       "<Figure size 288x144 with 1 Axes>"
      ]
     },
     "metadata": {
      "needs_background": "light"
     },
     "output_type": "display_data"
    }
   ],
   "source": [
    "#create all the histograms:\n",
    "for col in train.columns:\n",
    "    plt.figure(figsize=(4,2))\n",
    "    plt.hist(train[col])\n",
    "    plt.title(col)\n",
    "    plt.show()"
   ]
  },
  {
   "cell_type": "markdown",
   "id": "f101444f",
   "metadata": {},
   "source": [
    "### TAKEAWAYS:\n",
    "- I'll add in some outlier ranges to help these distributions look at bit more 'normal'\n",
    "- Some columns won't need to be changed (ie. latitude/longitude/zipcode/census/etc)"
   ]
  },
  {
   "cell_type": "markdown",
   "id": "4b2bf533",
   "metadata": {},
   "source": [
    "## Handling Outliers:"
   ]
  },
  {
   "cell_type": "markdown",
   "id": "fb07b205",
   "metadata": {},
   "source": [
    ">I've decided to go by the outliers I used in my Regression model, by creating ranges of the columns below:\n",
    "- Finished Squarefoot Range: 200sqft - 9_000sqft\n",
    "- Bedroom Count range: 1-6bd\n",
    "- Bathroom Count range:1-6bd\n",
    "- Property Tax Value range: 45k - 2.5million"
   ]
  },
  {
   "cell_type": "markdown",
   "id": "fa87d650",
   "metadata": {},
   "source": [
    "I also will be adding these ranges to outliers as well:\n",
    "    - Year built"
   ]
  },
  {
   "cell_type": "code",
   "execution_count": null,
   "id": "196c31d8",
   "metadata": {},
   "outputs": [],
   "source": []
  }
 ],
 "metadata": {
  "kernelspec": {
   "display_name": "Python 3 (ipykernel)",
   "language": "python",
   "name": "python3"
  },
  "language_info": {
   "codemirror_mode": {
    "name": "ipython",
    "version": 3
   },
   "file_extension": ".py",
   "mimetype": "text/x-python",
   "name": "python",
   "nbconvert_exporter": "python",
   "pygments_lexer": "ipython3",
   "version": "3.9.7"
  }
 },
 "nbformat": 4,
 "nbformat_minor": 5
}
