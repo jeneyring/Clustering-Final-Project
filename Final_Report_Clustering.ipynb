{
 "cells": [
  {
   "cell_type": "markdown",
   "id": "b9a15190",
   "metadata": {},
   "source": [
    ">#### Imports and Calling in Data:"
   ]
  },
  {
   "cell_type": "code",
   "execution_count": 1,
   "id": "f30ed714",
   "metadata": {},
   "outputs": [],
   "source": [
    "#imports for calling in data\n",
    "import wrangle\n",
    "import viz\n",
    "\n",
    "df=wrangle.get_zillow_data()\n",
    "\n",
    "#needed imports for general notebook needs\n",
    "import pandas as pd\n",
    "pd.options.display.max_rows = 100\n",
    "import matplotlib.pyplot as plt\n",
    "import seaborn as sns\n",
    "\n"
   ]
  },
  {
   "cell_type": "markdown",
   "id": "c016fff4",
   "metadata": {},
   "source": [
    "# Acquisition Phase:"
   ]
  },
  {
   "cell_type": "markdown",
   "id": "aae19adf",
   "metadata": {},
   "source": [
    ">### Summary of the Raw Acquired Data:"
   ]
  },
  {
   "cell_type": "code",
   "execution_count": 2,
   "id": "e949fa0f",
   "metadata": {},
   "outputs": [
    {
     "name": "stdout",
     "output_type": "stream",
     "text": [
      "---Shape: (52319, 68)\n",
      "\n",
      "---Info\n",
      "<class 'pandas.core.frame.DataFrame'>\n",
      "RangeIndex: 52319 entries, 0 to 52318\n",
      "Data columns (total 68 columns):\n",
      " #   Column                        Non-Null Count  Dtype  \n",
      "---  ------                        --------------  -----  \n",
      " 0   id                            52319 non-null  int64  \n",
      " 1   parcelid                      52319 non-null  int64  \n",
      " 2   airconditioningtypeid         13615 non-null  float64\n",
      " 3   architecturalstyletypeid      70 non-null     float64\n",
      " 4   basementsqft                  47 non-null     float64\n",
      " 5   bathroomcnt                   52319 non-null  float64\n",
      " 6   bedroomcnt                    52319 non-null  float64\n",
      " 7   buildingclasstypeid           0 non-null      float64\n",
      " 8   buildingqualitytypeid         33654 non-null  float64\n",
      " 9   calculatedbathnbr             52184 non-null  float64\n",
      " 10  decktypeid                    389 non-null    float64\n",
      " 11  finishedfloor1squarefeet      4371 non-null   float64\n",
      " 12  calculatedfinishedsquarefeet  52238 non-null  float64\n",
      " 13  finishedsquarefeet12          52073 non-null  float64\n",
      " 14  finishedsquarefeet13          0 non-null      float64\n",
      " 15  finishedsquarefeet15          0 non-null      float64\n",
      " 16  finishedsquarefeet50          4371 non-null   float64\n",
      " 17  finishedsquarefeet6           165 non-null    float64\n",
      " 18  fips                          52319 non-null  float64\n",
      " 19  fireplacecnt                  7233 non-null   float64\n",
      " 20  fullbathcnt                   52184 non-null  float64\n",
      " 21  garagecarcnt                  17984 non-null  float64\n",
      " 22  garagetotalsqft               17984 non-null  float64\n",
      " 23  hashottuborspa                1514 non-null   float64\n",
      " 24  heatingorsystemtypeid         33849 non-null  float64\n",
      " 25  latitude                      52319 non-null  float64\n",
      " 26  longitude                     52319 non-null  float64\n",
      " 27  lotsizesquarefeet             51953 non-null  float64\n",
      " 28  poolcnt                       11077 non-null  float64\n",
      " 29  poolsizesum                   865 non-null    float64\n",
      " 30  pooltypeid10                  443 non-null    float64\n",
      " 31  pooltypeid2                   1071 non-null   float64\n",
      " 32  pooltypeid7                   9990 non-null   float64\n",
      " 33  propertycountylandusecode     52319 non-null  object \n",
      " 34  propertylandusetypeid         52319 non-null  float64\n",
      " 35  propertyzoningdesc            33761 non-null  object \n",
      " 36  rawcensustractandblock        52319 non-null  float64\n",
      " 37  regionidcity                  51283 non-null  float64\n",
      " 38  regionidcounty                52319 non-null  float64\n",
      " 39  regionidneighborhood          18981 non-null  float64\n",
      " 40  regionidzip                   52293 non-null  float64\n",
      " 41  roomcnt                       52319 non-null  float64\n",
      " 42  storytypeid                   47 non-null     float64\n",
      " 43  threequarterbathnbr           6717 non-null   float64\n",
      " 44  typeconstructiontypeid        76 non-null     float64\n",
      " 45  unitcnt                       33761 non-null  float64\n",
      " 46  yardbuildingsqft17            1935 non-null   float64\n",
      " 47  yardbuildingsqft26            63 non-null     float64\n",
      " 48  yearbuilt                     52205 non-null  float64\n",
      " 49  numberofstories               14532 non-null  float64\n",
      " 50  fireplaceflag                 81 non-null     float64\n",
      " 51  structuretaxvaluedollarcnt    52237 non-null  float64\n",
      " 52  taxvaluedollarcnt             52318 non-null  float64\n",
      " 53  assessmentyear                52319 non-null  float64\n",
      " 54  landtaxvaluedollarcnt         52318 non-null  float64\n",
      " 55  taxamount                     52315 non-null  float64\n",
      " 56  taxdelinquencyflag            2068 non-null   object \n",
      " 57  taxdelinquencyyear            2068 non-null   float64\n",
      " 58  censustractandblock           52198 non-null  float64\n",
      " 59  logerror                      52319 non-null  float64\n",
      " 60  transactiondate               52319 non-null  object \n",
      " 61  airconditioningdesc           13615 non-null  object \n",
      " 62  architecturalstyledesc        70 non-null     object \n",
      " 63  buildingclassdesc             0 non-null      float64\n",
      " 64  heatingorsystemdesc           33849 non-null  object \n",
      " 65  propertylandusedesc           52319 non-null  object \n",
      " 66  storydesc                     47 non-null     object \n",
      " 67  typeconstructiondesc          76 non-null     object \n",
      "dtypes: float64(56), int64(2), object(10)\n",
      "memory usage: 27.1+ MB\n",
      "\n",
      "--- Column Description\n",
      "                  id      parcelid  airconditioningtypeid  \\\n",
      "count   5.231900e+04  5.231900e+04           13615.000000   \n",
      "unique           NaN           NaN                    NaN   \n",
      "top              NaN           NaN                    NaN   \n",
      "freq             NaN           NaN                    NaN   \n",
      "mean    1.496888e+06  1.299682e+07               2.439589   \n",
      "std     8.594310e+05  3.350951e+06               3.847925   \n",
      "min     3.490000e+02  1.071186e+07               1.000000   \n",
      "25%     7.575810e+05  1.151017e+07               1.000000   \n",
      "50%     1.500095e+06  1.257825e+07               1.000000   \n",
      "75%     2.241248e+06  1.413036e+07               1.000000   \n",
      "max     2.982270e+06  1.676878e+08              13.000000   \n",
      "\n",
      "        architecturalstyletypeid  basementsqft   bathroomcnt    bedroomcnt  \\\n",
      "count                   70.00000     47.000000  52319.000000  52319.000000   \n",
      "unique                       NaN           NaN           NaN           NaN   \n",
      "top                          NaN           NaN           NaN           NaN   \n",
      "freq                         NaN           NaN           NaN           NaN   \n",
      "mean                     7.10000    678.978723      2.300015      3.300770   \n",
      "std                      2.66567    711.825226      1.022816      0.947563   \n",
      "min                      2.00000     38.000000      0.000000      0.000000   \n",
      "25%                      7.00000    263.500000      2.000000      3.000000   \n",
      "50%                      7.00000    512.000000      2.000000      3.000000   \n",
      "75%                      7.00000    809.500000      3.000000      4.000000   \n",
      "max                     21.00000   3560.000000     18.000000     14.000000   \n",
      "\n",
      "        buildingclasstypeid  buildingqualitytypeid  calculatedbathnbr  ...  \\\n",
      "count                   0.0           33654.000000       52184.000000  ...   \n",
      "unique                  NaN                    NaN                NaN  ...   \n",
      "top                     NaN                    NaN                NaN  ...   \n",
      "freq                    NaN                    NaN                NaN  ...   \n",
      "mean                    NaN               6.264961           2.305276  ...   \n",
      "std                     NaN               1.716328           1.018076  ...   \n",
      "min                     NaN               1.000000           1.000000  ...   \n",
      "25%                     NaN               5.000000           2.000000  ...   \n",
      "50%                     NaN               6.000000           2.000000  ...   \n",
      "75%                     NaN               8.000000           3.000000  ...   \n",
      "max                     NaN              12.000000          18.000000  ...   \n",
      "\n",
      "        censustractandblock      logerror  transactiondate  \\\n",
      "count          5.219800e+04  52319.000000            52319   \n",
      "unique                  NaN           NaN              257   \n",
      "top                     NaN           NaN       2017-06-30   \n",
      "freq                    NaN           NaN              809   \n",
      "mean           6.050245e+13      0.018136              NaN   \n",
      "std            1.861145e+12      0.176904              NaN   \n",
      "min            6.037101e+13     -4.655420              NaN   \n",
      "25%            6.037401e+13     -0.024702              NaN   \n",
      "50%            6.037620e+13      0.006935              NaN   \n",
      "75%            6.059042e+13      0.040599              NaN   \n",
      "max            4.830301e+14      5.262999              NaN   \n",
      "\n",
      "        airconditioningdesc  architecturalstyledesc  buildingclassdesc  \\\n",
      "count                 13615                      70                0.0   \n",
      "unique                    4                       5                NaN   \n",
      "top                 Central            Contemporary                NaN   \n",
      "freq                  11873                      62                NaN   \n",
      "mean                    NaN                     NaN                NaN   \n",
      "std                     NaN                     NaN                NaN   \n",
      "min                     NaN                     NaN                NaN   \n",
      "25%                     NaN                     NaN                NaN   \n",
      "50%                     NaN                     NaN                NaN   \n",
      "75%                     NaN                     NaN                NaN   \n",
      "max                     NaN                     NaN                NaN   \n",
      "\n",
      "        heatingorsystemdesc        propertylandusedesc  storydesc  \\\n",
      "count                 33849                      52319         47   \n",
      "unique                    9                          1          1   \n",
      "top                 Central  Single Family Residential   Basement   \n",
      "freq                  20689                      52319         47   \n",
      "mean                    NaN                        NaN        NaN   \n",
      "std                     NaN                        NaN        NaN   \n",
      "min                     NaN                        NaN        NaN   \n",
      "25%                     NaN                        NaN        NaN   \n",
      "50%                     NaN                        NaN        NaN   \n",
      "75%                     NaN                        NaN        NaN   \n",
      "max                     NaN                        NaN        NaN   \n",
      "\n",
      "        typeconstructiondesc  \n",
      "count                     76  \n",
      "unique                     2  \n",
      "top                    Frame  \n",
      "freq                      75  \n",
      "mean                     NaN  \n",
      "std                      NaN  \n",
      "min                      NaN  \n",
      "25%                      NaN  \n",
      "50%                      NaN  \n",
      "75%                      NaN  \n",
      "max                      NaN  \n",
      "\n",
      "[11 rows x 68 columns]\n"
     ]
    }
   ],
   "source": [
    "#using a summary df built in wrangle.py\n",
    "wrangle.df_summary(df)"
   ]
  },
  {
   "cell_type": "markdown",
   "id": "cf52485e",
   "metadata": {},
   "source": [
    "# Preparation Phase:"
   ]
  },
  {
   "cell_type": "markdown",
   "id": "0a816f2e",
   "metadata": {},
   "source": [
    ">### Handling the nulls and Missing Values & dtypes"
   ]
  },
  {
   "cell_type": "markdown",
   "id": "d7899183",
   "metadata": {},
   "source": [
    "Notes:\n",
    "    <br>- I first handled my missing values by determining the count and percentage missing from each feature, and found that with rows & columns, taking out the data that had 60% columns and 60% of rows data missing did not affect my data count by much AND left me with some good features that I think will help conduct the clustering model. \n",
    "    <br>- I then changed the dtypes all to int for later scaline/modeling."
   ]
  },
  {
   "cell_type": "code",
   "execution_count": 3,
   "id": "cd6b4e93",
   "metadata": {},
   "outputs": [],
   "source": [
    "#bringing in my function that 1) Handled missing values by %, 2)dropped unneeded feature columns, 3) dropna the smaller \n",
    "#amount of nulls that were missing by row\n",
    "df = wrangle.data_prep(df, cols_to_remove=['propertylandusetypeid','transactiondate','propertycountylandusecode','propertylandusedesc','propertyzoningdesc','buildingqualitytypeid','heatingorsystemtypeid','unitcnt','heatingorsystemdesc','calculatedbathnbr','id','finishedsquarefeet12','fullbathcnt','structuretaxvaluedollarcnt','landtaxvaluedollarcnt','taxamount','regionidcity','censustractandblock'], prop_required_column=.6, prop_required_row=.6)"
   ]
  },
  {
   "cell_type": "code",
   "execution_count": 4,
   "id": "5a35957f",
   "metadata": {},
   "outputs": [
    {
     "data": {
      "text/plain": [
       "parcelid                        0\n",
       "bathroomcnt                     0\n",
       "bedroomcnt                      0\n",
       "calculatedfinishedsquarefeet    0\n",
       "fips                            0\n",
       "latitude                        0\n",
       "longitude                       0\n",
       "lotsizesquarefeet               0\n",
       "rawcensustractandblock          0\n",
       "regionidcounty                  0\n",
       "regionidzip                     0\n",
       "roomcnt                         0\n",
       "yearbuilt                       0\n",
       "taxvaluedollarcnt               0\n",
       "assessmentyear                  0\n",
       "logerror                        0\n",
       "dtype: int64"
      ]
     },
     "execution_count": 4,
     "metadata": {},
     "output_type": "execute_result"
    }
   ],
   "source": [
    "#just to show what columns were left and that nulls are now cleaned\n",
    "df.isnull().sum()"
   ]
  },
  {
   "cell_type": "markdown",
   "id": "5f79b683",
   "metadata": {},
   "source": [
    ">### Split the Data:"
   ]
  },
  {
   "cell_type": "code",
   "execution_count": 5,
   "id": "999edc2a",
   "metadata": {},
   "outputs": [
    {
     "data": {
      "text/html": [
       "<div>\n",
       "<style scoped>\n",
       "    .dataframe tbody tr th:only-of-type {\n",
       "        vertical-align: middle;\n",
       "    }\n",
       "\n",
       "    .dataframe tbody tr th {\n",
       "        vertical-align: top;\n",
       "    }\n",
       "\n",
       "    .dataframe thead th {\n",
       "        text-align: right;\n",
       "    }\n",
       "</style>\n",
       "<table border=\"1\" class=\"dataframe\">\n",
       "  <thead>\n",
       "    <tr style=\"text-align: right;\">\n",
       "      <th></th>\n",
       "      <th>parcelid</th>\n",
       "      <th>bathroomcnt</th>\n",
       "      <th>bedroomcnt</th>\n",
       "      <th>calculatedfinishedsquarefeet</th>\n",
       "      <th>fips</th>\n",
       "      <th>latitude</th>\n",
       "      <th>longitude</th>\n",
       "      <th>lotsizesquarefeet</th>\n",
       "      <th>rawcensustractandblock</th>\n",
       "      <th>regionidcounty</th>\n",
       "      <th>regionidzip</th>\n",
       "      <th>roomcnt</th>\n",
       "      <th>yearbuilt</th>\n",
       "      <th>taxvaluedollarcnt</th>\n",
       "      <th>assessmentyear</th>\n",
       "      <th>logerror</th>\n",
       "    </tr>\n",
       "  </thead>\n",
       "  <tbody>\n",
       "    <tr>\n",
       "      <th>34222</th>\n",
       "      <td>11533536</td>\n",
       "      <td>1.0</td>\n",
       "      <td>2.0</td>\n",
       "      <td>864.0</td>\n",
       "      <td>6037.0</td>\n",
       "      <td>33986536.0</td>\n",
       "      <td>-118424309.0</td>\n",
       "      <td>5002.0</td>\n",
       "      <td>6.037275e+07</td>\n",
       "      <td>3101.0</td>\n",
       "      <td>96047.0</td>\n",
       "      <td>0.0</td>\n",
       "      <td>1950.0</td>\n",
       "      <td>787004.0</td>\n",
       "      <td>2016.0</td>\n",
       "      <td>0.063660</td>\n",
       "    </tr>\n",
       "    <tr>\n",
       "      <th>21551</th>\n",
       "      <td>11058331</td>\n",
       "      <td>2.0</td>\n",
       "      <td>3.0</td>\n",
       "      <td>1243.0</td>\n",
       "      <td>6037.0</td>\n",
       "      <td>34270033.0</td>\n",
       "      <td>-118492886.0</td>\n",
       "      <td>7795.0</td>\n",
       "      <td>6.037111e+07</td>\n",
       "      <td>3101.0</td>\n",
       "      <td>96370.0</td>\n",
       "      <td>0.0</td>\n",
       "      <td>1953.0</td>\n",
       "      <td>174930.0</td>\n",
       "      <td>2016.0</td>\n",
       "      <td>0.059323</td>\n",
       "    </tr>\n",
       "    <tr>\n",
       "      <th>39107</th>\n",
       "      <td>14003091</td>\n",
       "      <td>2.0</td>\n",
       "      <td>4.0</td>\n",
       "      <td>1157.0</td>\n",
       "      <td>6059.0</td>\n",
       "      <td>33794310.0</td>\n",
       "      <td>-117985512.0</td>\n",
       "      <td>7350.0</td>\n",
       "      <td>6.059088e+07</td>\n",
       "      <td>1286.0</td>\n",
       "      <td>97023.0</td>\n",
       "      <td>7.0</td>\n",
       "      <td>1954.0</td>\n",
       "      <td>274539.0</td>\n",
       "      <td>2016.0</td>\n",
       "      <td>0.184348</td>\n",
       "    </tr>\n",
       "    <tr>\n",
       "      <th>9029</th>\n",
       "      <td>14208016</td>\n",
       "      <td>2.0</td>\n",
       "      <td>3.0</td>\n",
       "      <td>1491.0</td>\n",
       "      <td>6059.0</td>\n",
       "      <td>33861905.0</td>\n",
       "      <td>-117769542.0</td>\n",
       "      <td>6000.0</td>\n",
       "      <td>6.059022e+07</td>\n",
       "      <td>1286.0</td>\n",
       "      <td>97027.0</td>\n",
       "      <td>6.0</td>\n",
       "      <td>1975.0</td>\n",
       "      <td>523394.0</td>\n",
       "      <td>2016.0</td>\n",
       "      <td>-0.004648</td>\n",
       "    </tr>\n",
       "    <tr>\n",
       "      <th>2982</th>\n",
       "      <td>10844442</td>\n",
       "      <td>2.0</td>\n",
       "      <td>4.0</td>\n",
       "      <td>1843.0</td>\n",
       "      <td>6037.0</td>\n",
       "      <td>34173761.0</td>\n",
       "      <td>-118454651.0</td>\n",
       "      <td>7202.0</td>\n",
       "      <td>6.037128e+07</td>\n",
       "      <td>3101.0</td>\n",
       "      <td>96420.0</td>\n",
       "      <td>0.0</td>\n",
       "      <td>1949.0</td>\n",
       "      <td>113758.0</td>\n",
       "      <td>2016.0</td>\n",
       "      <td>0.025679</td>\n",
       "    </tr>\n",
       "  </tbody>\n",
       "</table>\n",
       "</div>"
      ],
      "text/plain": [
       "       parcelid  bathroomcnt  bedroomcnt  calculatedfinishedsquarefeet  \\\n",
       "34222  11533536          1.0         2.0                         864.0   \n",
       "21551  11058331          2.0         3.0                        1243.0   \n",
       "39107  14003091          2.0         4.0                        1157.0   \n",
       "9029   14208016          2.0         3.0                        1491.0   \n",
       "2982   10844442          2.0         4.0                        1843.0   \n",
       "\n",
       "         fips    latitude    longitude  lotsizesquarefeet  \\\n",
       "34222  6037.0  33986536.0 -118424309.0             5002.0   \n",
       "21551  6037.0  34270033.0 -118492886.0             7795.0   \n",
       "39107  6059.0  33794310.0 -117985512.0             7350.0   \n",
       "9029   6059.0  33861905.0 -117769542.0             6000.0   \n",
       "2982   6037.0  34173761.0 -118454651.0             7202.0   \n",
       "\n",
       "       rawcensustractandblock  regionidcounty  regionidzip  roomcnt  \\\n",
       "34222            6.037275e+07          3101.0      96047.0      0.0   \n",
       "21551            6.037111e+07          3101.0      96370.0      0.0   \n",
       "39107            6.059088e+07          1286.0      97023.0      7.0   \n",
       "9029             6.059022e+07          1286.0      97027.0      6.0   \n",
       "2982             6.037128e+07          3101.0      96420.0      0.0   \n",
       "\n",
       "       yearbuilt  taxvaluedollarcnt  assessmentyear  logerror  \n",
       "34222     1950.0           787004.0          2016.0  0.063660  \n",
       "21551     1953.0           174930.0          2016.0  0.059323  \n",
       "39107     1954.0           274539.0          2016.0  0.184348  \n",
       "9029      1975.0           523394.0          2016.0 -0.004648  \n",
       "2982      1949.0           113758.0          2016.0  0.025679  "
      ]
     },
     "execution_count": 5,
     "metadata": {},
     "output_type": "execute_result"
    }
   ],
   "source": [
    "#using a 80/20 split on Train/Test, and then 70/30 for train,validate...stratifying on fips for even mix of data between\n",
    "#using the fips codes for the three counties\n",
    "train, validate, test = wrangle.split_data(df)\n",
    "train.head()"
   ]
  },
  {
   "cell_type": "markdown",
   "id": "9e75fc2e",
   "metadata": {},
   "source": [
    ">### Encoding Columns:\n",
    "I want to encode the 'fips' column, and added the columns 'is_Los_Angeles'/'is_Ventura'/'is_Orange' so I can use a quick 0/1 to use in predictions."
   ]
  },
  {
   "cell_type": "code",
   "execution_count": 6,
   "id": "c948bb34",
   "metadata": {},
   "outputs": [
    {
     "ename": "TypeError",
     "evalue": "one_hot_encode() missing 2 required positional arguments: 'validate' and 'test'",
     "output_type": "error",
     "traceback": [
      "\u001b[0;31m---------------------------------------------------------------------------\u001b[0m",
      "\u001b[0;31mTypeError\u001b[0m                                 Traceback (most recent call last)",
      "\u001b[0;32m/var/folders/d3/11nygz6126ndxvtrp12687680000gn/T/ipykernel_12142/2204955306.py\u001b[0m in \u001b[0;36m<module>\u001b[0;34m\u001b[0m\n\u001b[1;32m      1\u001b[0m \u001b[0;31m#encoded column for counties\u001b[0m\u001b[0;34m\u001b[0m\u001b[0;34m\u001b[0m\u001b[0m\n\u001b[0;32m----> 2\u001b[0;31m \u001b[0mtrain\u001b[0m \u001b[0;34m=\u001b[0m \u001b[0mwrangle\u001b[0m\u001b[0;34m.\u001b[0m\u001b[0mone_hot_encode\u001b[0m\u001b[0;34m(\u001b[0m\u001b[0mtrain\u001b[0m\u001b[0;34m)\u001b[0m\u001b[0;34m\u001b[0m\u001b[0;34m\u001b[0m\u001b[0m\n\u001b[0m\u001b[1;32m      3\u001b[0m \u001b[0;31m#turned columns into int\u001b[0m\u001b[0;34m\u001b[0m\u001b[0;34m\u001b[0m\u001b[0m\n\u001b[1;32m      4\u001b[0m \u001b[0mtrain\u001b[0m \u001b[0;34m=\u001b[0m \u001b[0mwrangle\u001b[0m\u001b[0;34m.\u001b[0m\u001b[0mdtype_county\u001b[0m\u001b[0;34m(\u001b[0m\u001b[0mtrain\u001b[0m\u001b[0;34m)\u001b[0m\u001b[0;34m\u001b[0m\u001b[0;34m\u001b[0m\u001b[0m\n",
      "\u001b[0;31mTypeError\u001b[0m: one_hot_encode() missing 2 required positional arguments: 'validate' and 'test'"
     ]
    }
   ],
   "source": [
    "#encoded column for counties\n",
    "train = wrangle.one_hot_encode(train)\n",
    "#turned columns into int\n",
    "train = wrangle.dtype_county(train)"
   ]
  },
  {
   "cell_type": "markdown",
   "id": "cb1b981a",
   "metadata": {},
   "source": [
    ">### Data Distributions:\n",
    "- Looking at each feature and it's distribution"
   ]
  },
  {
   "cell_type": "code",
   "execution_count": null,
   "id": "e32a5da4",
   "metadata": {},
   "outputs": [],
   "source": [
    "#create all the histograms:\n",
    "for col in train.columns:\n",
    "    plt.figure(figsize=(4,2))\n",
    "    plt.hist(train[col])\n",
    "    plt.title(col)\n",
    "    plt.show()"
   ]
  },
  {
   "cell_type": "markdown",
   "id": "8e9150c0",
   "metadata": {},
   "source": [
    "##### TAKEAWAYS:\n",
    "- I'll add in some outlier ranges to help these distributions look at bit more 'normal'\n",
    "- Some columns won't need to be changed (ie. latitude/longitude/zipcode/census/etc)\n",
    "- Depending on the shape after outliers, for the right-tailed features I'll use a Spearman's test (since shape of data is not normally distributed)"
   ]
  },
  {
   "cell_type": "markdown",
   "id": "beca294e",
   "metadata": {},
   "source": [
    ">### Outliers: Creating the ranges of data to train on"
   ]
  },
  {
   "cell_type": "code",
   "execution_count": null,
   "id": "77b89bb4",
   "metadata": {},
   "outputs": [],
   "source": [
    "train = wrangle.handle_outliers(train)"
   ]
  },
  {
   "cell_type": "markdown",
   "id": "2f88f278",
   "metadata": {},
   "source": [
    "I'll be using the ranges I set in my Regression project to handle outliers:\n",
    "\n",
    "- Finished Squarefoot Range: 200sqft - 9_000sqft\n",
    "- Bedroom Count range: 1-6bd\n",
    "- Bathroom Count range:1-6bd\n",
    "- Property Tax Value range: 45k - 2.5million\n",
    "\n",
    "And adding new ranges of:\n",
    "\n",
    "- Year built: 1950 - 2016\n",
    "- Lot Sqft: 2,500 - 435,600 (10acres)...based on CA requirements for minimum and capturing more of Zillow's max clients"
   ]
  },
  {
   "cell_type": "markdown",
   "id": "873bfcb2",
   "metadata": {},
   "source": [
    "### Conclusion: The above ranges gave me a data count of 20,875 rows X 19 columns.\n",
    ">### <mark>Taking out 28% of training data</mark>"
   ]
  },
  {
   "cell_type": "code",
   "execution_count": null,
   "id": "d47d100f",
   "metadata": {},
   "outputs": [],
   "source": [
    "#Looking once more at the distribution, now that the outliers have been sorted out\n",
    "for col in train.columns:\n",
    "    plt.figure(figsize=(4,2))\n",
    "    plt.hist(train[col])\n",
    "    plt.title(col)\n",
    "    plt.show()"
   ]
  },
  {
   "cell_type": "markdown",
   "id": "c956d4cd",
   "metadata": {},
   "source": [
    "____________________________________________________________________________________________________"
   ]
  },
  {
   "cell_type": "markdown",
   "id": "7ea79d5b",
   "metadata": {},
   "source": [
    "# Question One: Does logerror differ across each county?"
   ]
  },
  {
   "cell_type": "code",
   "execution_count": null,
   "id": "bb7fcb41",
   "metadata": {},
   "outputs": [],
   "source": [
    "#I created a scatterplot to give a visualization of logerrors based on location/county/region\n",
    "sns.scatterplot(data=train, x='longitude', y='latitude', hue='logerror')"
   ]
  },
  {
   "cell_type": "markdown",
   "id": "ee00c890",
   "metadata": {},
   "source": [
    "### Take away: The region plot shows that the mean of logerrors is happening all across each of our 3 counties...so I would at least say there isn't 'one' county that is ONLY experiencing these log errors..."
   ]
  },
  {
   "cell_type": "code",
   "execution_count": null,
   "id": "94a97d88",
   "metadata": {},
   "outputs": [],
   "source": []
  }
 ],
 "metadata": {
  "kernelspec": {
   "display_name": "Python 3 (ipykernel)",
   "language": "python",
   "name": "python3"
  },
  "language_info": {
   "codemirror_mode": {
    "name": "ipython",
    "version": 3
   },
   "file_extension": ".py",
   "mimetype": "text/x-python",
   "name": "python",
   "nbconvert_exporter": "python",
   "pygments_lexer": "ipython3",
   "version": "3.9.7"
  }
 },
 "nbformat": 4,
 "nbformat_minor": 5
}
